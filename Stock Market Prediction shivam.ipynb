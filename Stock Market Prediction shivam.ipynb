{
  "cells": [
    {
      "cell_type": "markdown",
      "metadata": {},
      "source": [
        "## ***NAME- SHIVAM JHA***\n",
        "## ***REFF- SIRSS2317***\n",
        "## ***COLLEGE- MAHARAJA SURAJMAL INSTITUTE OF TECHNOLOGY***\n",
        "## ***TEAM PROJECT- STOCK MARKET PREDICTION***\n",
        "## ***TEAM 19***"
      ]
    },
    {
      "cell_type": "code",
      "execution_count": 5,
      "metadata": {
        "id": "85iHaC07nml3"
      },
      "outputs": [],
      "source": [
        "import os \n",
        "import pydrive  \n",
        "import pandas as pd\n",
        "import pandas_datareader as pdr\n",
        "import numpy as np\n",
        "import matplotlib.pyplot as plt\n",
        "import zipfile\n",
        "import tensorflow as tf\n",
        "from tensorflow.keras.optimizers import RMSprop\n",
        "from tensorflow.keras.preprocessing.image import ImageDataGenerator\n",
        "from tensorflow.keras import datasets,layers,models,Model"
      ]
    },
    {
      "cell_type": "code",
      "execution_count": 6,
      "metadata": {
        "id": "FJNMq73BvzMR"
      },
      "outputs": [],
      "source": [
        "path=\"/content/MSFT.csv\"\n",
        "df=pd.read_csv(path)"
      ]
    },
    {
      "cell_type": "code",
      "execution_count": 7,
      "metadata": {
        "colab": {
          "base_uri": "https://localhost:8080/",
          "height": 204
        },
        "id": "PM3UkJ6Dwr2Q",
        "outputId": "eb164830-3d7a-42b6-9fe6-98573bf468f6"
      },
      "outputs": [
        {
          "data": {
            "text/html": [
              "<div>\n",
              "<style scoped>\n",
              "    .dataframe tbody tr th:only-of-type {\n",
              "        vertical-align: middle;\n",
              "    }\n",
              "\n",
              "    .dataframe tbody tr th {\n",
              "        vertical-align: top;\n",
              "    }\n",
              "\n",
              "    .dataframe thead th {\n",
              "        text-align: right;\n",
              "    }\n",
              "</style>\n",
              "<table border=\"1\" class=\"dataframe\">\n",
              "  <thead>\n",
              "    <tr style=\"text-align: right;\">\n",
              "      <th></th>\n",
              "      <th>Date</th>\n",
              "      <th>Open</th>\n",
              "      <th>High</th>\n",
              "      <th>Low</th>\n",
              "      <th>Close</th>\n",
              "      <th>Adj Close</th>\n",
              "      <th>Volume</th>\n",
              "    </tr>\n",
              "  </thead>\n",
              "  <tbody>\n",
              "    <tr>\n",
              "      <th>0</th>\n",
              "      <td>1986-03-13</td>\n",
              "      <td>0.088542</td>\n",
              "      <td>0.101563</td>\n",
              "      <td>0.088542</td>\n",
              "      <td>0.097222</td>\n",
              "      <td>0.061751</td>\n",
              "      <td>1031788800</td>\n",
              "    </tr>\n",
              "    <tr>\n",
              "      <th>1</th>\n",
              "      <td>1986-03-14</td>\n",
              "      <td>0.097222</td>\n",
              "      <td>0.102431</td>\n",
              "      <td>0.097222</td>\n",
              "      <td>0.100694</td>\n",
              "      <td>0.063956</td>\n",
              "      <td>308160000</td>\n",
              "    </tr>\n",
              "    <tr>\n",
              "      <th>2</th>\n",
              "      <td>1986-03-17</td>\n",
              "      <td>0.100694</td>\n",
              "      <td>0.103299</td>\n",
              "      <td>0.100694</td>\n",
              "      <td>0.102431</td>\n",
              "      <td>0.065059</td>\n",
              "      <td>133171200</td>\n",
              "    </tr>\n",
              "    <tr>\n",
              "      <th>3</th>\n",
              "      <td>1986-03-18</td>\n",
              "      <td>0.102431</td>\n",
              "      <td>0.103299</td>\n",
              "      <td>0.098958</td>\n",
              "      <td>0.099826</td>\n",
              "      <td>0.063405</td>\n",
              "      <td>67766400</td>\n",
              "    </tr>\n",
              "    <tr>\n",
              "      <th>4</th>\n",
              "      <td>1986-03-19</td>\n",
              "      <td>0.099826</td>\n",
              "      <td>0.100694</td>\n",
              "      <td>0.097222</td>\n",
              "      <td>0.098090</td>\n",
              "      <td>0.062302</td>\n",
              "      <td>47894400</td>\n",
              "    </tr>\n",
              "  </tbody>\n",
              "</table>\n",
              "</div>"
            ],
            "text/plain": [
              "         Date      Open      High       Low     Close  Adj Close      Volume\n",
              "0  1986-03-13  0.088542  0.101563  0.088542  0.097222   0.061751  1031788800\n",
              "1  1986-03-14  0.097222  0.102431  0.097222  0.100694   0.063956   308160000\n",
              "2  1986-03-17  0.100694  0.103299  0.100694  0.102431   0.065059   133171200\n",
              "3  1986-03-18  0.102431  0.103299  0.098958  0.099826   0.063405    67766400\n",
              "4  1986-03-19  0.099826  0.100694  0.097222  0.098090   0.062302    47894400"
            ]
          },
          "execution_count": 7,
          "metadata": {},
          "output_type": "execute_result"
        }
      ],
      "source": [
        "df.head()"
      ]
    },
    {
      "cell_type": "code",
      "execution_count": 8,
      "metadata": {
        "colab": {
          "base_uri": "https://localhost:8080/",
          "height": 204
        },
        "id": "GjZ3YrRgxYo5",
        "outputId": "efa1dbe4-3b91-42f8-bf2f-abe0ccb13e55"
      },
      "outputs": [
        {
          "data": {
            "text/html": [
              "<div>\n",
              "<style scoped>\n",
              "    .dataframe tbody tr th:only-of-type {\n",
              "        vertical-align: middle;\n",
              "    }\n",
              "\n",
              "    .dataframe tbody tr th {\n",
              "        vertical-align: top;\n",
              "    }\n",
              "\n",
              "    .dataframe thead th {\n",
              "        text-align: right;\n",
              "    }\n",
              "</style>\n",
              "<table border=\"1\" class=\"dataframe\">\n",
              "  <thead>\n",
              "    <tr style=\"text-align: right;\">\n",
              "      <th></th>\n",
              "      <th>Date</th>\n",
              "      <th>Open</th>\n",
              "      <th>High</th>\n",
              "      <th>Low</th>\n",
              "      <th>Close</th>\n",
              "      <th>Adj Close</th>\n",
              "      <th>Volume</th>\n",
              "    </tr>\n",
              "  </thead>\n",
              "  <tbody>\n",
              "    <tr>\n",
              "      <th>8852</th>\n",
              "      <td>2021-04-27</td>\n",
              "      <td>261.579987</td>\n",
              "      <td>263.190002</td>\n",
              "      <td>260.119995</td>\n",
              "      <td>261.970001</td>\n",
              "      <td>261.970001</td>\n",
              "      <td>31014200</td>\n",
              "    </tr>\n",
              "    <tr>\n",
              "      <th>8853</th>\n",
              "      <td>2021-04-28</td>\n",
              "      <td>256.079987</td>\n",
              "      <td>256.540009</td>\n",
              "      <td>252.949997</td>\n",
              "      <td>254.559998</td>\n",
              "      <td>254.559998</td>\n",
              "      <td>46903100</td>\n",
              "    </tr>\n",
              "    <tr>\n",
              "      <th>8854</th>\n",
              "      <td>2021-04-29</td>\n",
              "      <td>255.460007</td>\n",
              "      <td>256.100006</td>\n",
              "      <td>249.000000</td>\n",
              "      <td>252.509995</td>\n",
              "      <td>252.509995</td>\n",
              "      <td>40589000</td>\n",
              "    </tr>\n",
              "    <tr>\n",
              "      <th>8855</th>\n",
              "      <td>2021-04-30</td>\n",
              "      <td>249.740005</td>\n",
              "      <td>253.080002</td>\n",
              "      <td>249.600006</td>\n",
              "      <td>252.179993</td>\n",
              "      <td>252.179993</td>\n",
              "      <td>30929200</td>\n",
              "    </tr>\n",
              "    <tr>\n",
              "      <th>8856</th>\n",
              "      <td>2021-05-03</td>\n",
              "      <td>253.399994</td>\n",
              "      <td>254.350006</td>\n",
              "      <td>251.119995</td>\n",
              "      <td>251.860001</td>\n",
              "      <td>251.860001</td>\n",
              "      <td>19598900</td>\n",
              "    </tr>\n",
              "  </tbody>\n",
              "</table>\n",
              "</div>"
            ],
            "text/plain": [
              "            Date        Open        High  ...       Close   Adj Close    Volume\n",
              "8852  2021-04-27  261.579987  263.190002  ...  261.970001  261.970001  31014200\n",
              "8853  2021-04-28  256.079987  256.540009  ...  254.559998  254.559998  46903100\n",
              "8854  2021-04-29  255.460007  256.100006  ...  252.509995  252.509995  40589000\n",
              "8855  2021-04-30  249.740005  253.080002  ...  252.179993  252.179993  30929200\n",
              "8856  2021-05-03  253.399994  254.350006  ...  251.860001  251.860001  19598900\n",
              "\n",
              "[5 rows x 7 columns]"
            ]
          },
          "execution_count": 8,
          "metadata": {},
          "output_type": "execute_result"
        }
      ],
      "source": [
        "\n",
        "df.tail()"
      ]
    },
    {
      "cell_type": "code",
      "execution_count": 9,
      "metadata": {
        "id": "Y93o5t-Bx080"
      },
      "outputs": [],
      "source": [
        "df1=df.reset_index()['Close']"
      ]
    },
    {
      "cell_type": "code",
      "execution_count": 10,
      "metadata": {
        "colab": {
          "base_uri": "https://localhost:8080/"
        },
        "id": "u7t4e0WtnPpF",
        "outputId": "df760705-bf71-4ab8-ef84-e8ba93c15114"
      },
      "outputs": [
        {
          "data": {
            "text/plain": [
              "0         0.097222\n",
              "1         0.100694\n",
              "2         0.102431\n",
              "3         0.099826\n",
              "4         0.098090\n",
              "           ...    \n",
              "8852    261.970001\n",
              "8853    254.559998\n",
              "8854    252.509995\n",
              "8855    252.179993\n",
              "8856    251.860001\n",
              "Name: Close, Length: 8857, dtype: float64"
            ]
          },
          "execution_count": 10,
          "metadata": {},
          "output_type": "execute_result"
        }
      ],
      "source": [
        "df1\n"
      ]
    },
    {
      "cell_type": "code",
      "execution_count": 11,
      "metadata": {
        "colab": {
          "base_uri": "https://localhost:8080/",
          "height": 282
        },
        "id": "eFct_35mnnlo",
        "outputId": "2bbdc14f-da5c-4565-d7c2-eb7dda8d6199"
      },
      "outputs": [
        {
          "data": {
            "text/plain": [
              "[<matplotlib.lines.Line2D at 0x7f787a030610>]"
            ]
          },
          "execution_count": 11,
          "metadata": {},
          "output_type": "execute_result"
        },
        {
          "data": {
            "image/png": "[encoded data removed]",
            "text/plain": [
              "<Figure size 432x288 with 1 Axes>"
            ]
          },
          "metadata": {
            "needs_background": "light"
          },
          "output_type": "display_data"
        }
      ],
      "source": [
        "import matplotlib.pyplot as plt\n",
        "plt.plot(df1)"
      ]
    },
    {
      "cell_type": "markdown",
      "metadata": {
        "id": "VmYCIKxRnvl4"
      },
      "source": [
        "### LSTM are sensitive to the scale of the data. so we apply MinMax scaler"
      ]
    },
    {
      "cell_type": "code",
      "execution_count": 12,
      "metadata": {
        "colab": {
          "base_uri": "https://localhost:8080/"
        },
        "id": "oB_cyDTXnyqV",
        "outputId": "0dec01d5-3059-4976-f50d-2812058484d9"
      },
      "outputs": [
        {
          "data": {
            "text/plain": [
              "0         0.097222\n",
              "1         0.100694\n",
              "2         0.102431\n",
              "3         0.099826\n",
              "4         0.098090\n",
              "           ...    \n",
              "8852    261.970001\n",
              "8853    254.559998\n",
              "8854    252.509995\n",
              "8855    252.179993\n",
              "8856    251.860001\n",
              "Name: Close, Length: 8857, dtype: float64"
            ]
          },
          "execution_count": 12,
          "metadata": {},
          "output_type": "execute_result"
        }
      ],
      "source": [
        "df1"
      ]
    },
    {
      "cell_type": "code",
      "execution_count": 13,
      "metadata": {
        "id": "7Wle39trn5bD"
      },
      "outputs": [],
      "source": [
        "from sklearn.preprocessing import MinMaxScaler\n",
        "scaler=MinMaxScaler(feature_range=(0,1))\n",
        "df1=scaler.fit_transform(np.array(df1).reshape(-1,1))"
      ]
    },
    {
      "cell_type": "code",
      "execution_count": 14,
      "metadata": {
        "colab": {
          "base_uri": "https://localhost:8080/"
        },
        "id": "Nc6UlKHtn8iR",
        "outputId": "32d3659a-f49a-4193-dc18-18cf65993e29"
      },
      "outputs": [
        {
          "name": "stdout",
          "output_type": "stream",
          "text": [
            "[[2.65159923e-05]\n",
            " [3.97739884e-05]\n",
            " [4.64067989e-05]\n",
            " ...\n",
            " [9.63876521e-01]\n",
            " [9.62616393e-01]\n",
            " [9.61394489e-01]]\n"
          ]
        }
      ],
      "source": [
        "print(df1)"
      ]
    },
    {
      "cell_type": "code",
      "execution_count": 15,
      "metadata": {
        "id": "lT1Gg-wrn_UV"
      },
      "outputs": [],
      "source": [
        "##splitting dataset into train and test split\n",
        "training_size=int(len(df1)*0.65)\n",
        "test_size=len(df1)-training_size\n",
        "train_data,test_data=df1[0:training_size,:],df1[training_size:len(df1),:1]"
      ]
    },
    {
      "cell_type": "code",
      "execution_count": 16,
      "metadata": {
        "colab": {
          "base_uri": "https://localhost:8080/"
        },
        "id": "mM9wNErWoCWm",
        "outputId": "c8a2f375-c1a1-4206-b56a-18dcd26aa907"
      },
      "outputs": [
        {
          "data": {
            "text/plain": [
              "(5757, 3100)"
            ]
          },
          "execution_count": 16,
          "metadata": {},
          "output_type": "execute_result"
        }
      ],
      "source": [
        "training_size,test_size"
      ]
    },
    {
      "cell_type": "code",
      "execution_count": 17,
      "metadata": {
        "colab": {
          "base_uri": "https://localhost:8080/"
        },
        "id": "YUDQqP91oFk5",
        "outputId": "d07e87db-1d76-4b9c-81ae-58d009489153"
      },
      "outputs": [
        {
          "data": {
            "text/plain": [
              "array([[2.65159923e-05],\n",
              "       [3.97739884e-05],\n",
              "       [4.64067989e-05],\n",
              "       ...,\n",
              "       [7.80118529e-02],\n",
              "       [7.89283033e-02],\n",
              "       [7.41551197e-02]])"
            ]
          },
          "execution_count": 17,
          "metadata": {},
          "output_type": "execute_result"
        }
      ],
      "source": [
        "train_data"
      ]
    },
    {
      "cell_type": "code",
      "execution_count": 18,
      "metadata": {
        "id": "f8NEy9y4oIHi"
      },
      "outputs": [],
      "source": [
        "import numpy\n",
        "# convert an array of values into a dataset matrix\n",
        "def create_dataset(dataset, time_step=1):\n",
        "\tdataX, dataY = [], []\n",
        "\tfor i in range(len(dataset)-time_step-1):\n",
        "\t\ta = dataset[i:(i+time_step), 0]   ###i=0, 0,1,2,3-----99   100 \n",
        "\t\tdataX.append(a)\n",
        "\t\tdataY.append(dataset[i + time_step, 0])\n",
        "\treturn numpy.array(dataX), numpy.array(dataY)"
      ]
    },
    {
      "cell_type": "code",
      "execution_count": 19,
      "metadata": {
        "id": "65x2GZxioQDR"
      },
      "outputs": [],
      "source": [
        "# reshape into X=t,t+1,t+2,t+3 and Y=t+4\n",
        "time_step = 100\n",
        "X_train, y_train = create_dataset(train_data, time_step)\n",
        "X_test, ytest = create_dataset(test_data, time_step)"
      ]
    },
    {
      "cell_type": "code",
      "execution_count": 20,
      "metadata": {
        "colab": {
          "base_uri": "https://localhost:8080/"
        },
        "id": "hkvG5yIDoS1B",
        "outputId": "3f8436fb-2270-4ea2-ab77-6bb5605b3f93"
      },
      "outputs": [
        {
          "name": "stdout",
          "output_type": "stream",
          "text": [
            "(5656, 100)\n",
            "(5656,)\n"
          ]
        },
        {
          "data": {
            "text/plain": [
              "(None, None)"
            ]
          },
          "execution_count": 20,
          "metadata": {},
          "output_type": "execute_result"
        }
      ],
      "source": [
        "\n",
        "print(X_train.shape), print(y_train.shape)"
      ]
    },
    {
      "cell_type": "code",
      "execution_count": 21,
      "metadata": {
        "colab": {
          "base_uri": "https://localhost:8080/"
        },
        "id": "-33z82jEoVa5",
        "outputId": "f50eeaaf-01fc-4ea6-ecb6-9974b0d7f228"
      },
      "outputs": [
        {
          "name": "stdout",
          "output_type": "stream",
          "text": [
            "(2999, 100)\n",
            "(2999,)\n"
          ]
        },
        {
          "data": {
            "text/plain": [
              "(None, None)"
            ]
          },
          "execution_count": 21,
          "metadata": {},
          "output_type": "execute_result"
        }
      ],
      "source": [
        "print(X_test.shape), print(ytest.shape)"
      ]
    },
    {
      "cell_type": "code",
      "execution_count": 22,
      "metadata": {
        "id": "zYC1cG_uoZH-"
      },
      "outputs": [],
      "source": [
        "# reshape input to be [samples, time steps, features] which is required for LSTM\n",
        "X_train =X_train.reshape(X_train.shape[0],X_train.shape[1] , 1)\n",
        "X_test = X_test.reshape(X_test.shape[0],X_test.shape[1] , 1)"
      ]
    },
    {
      "cell_type": "code",
      "execution_count": 23,
      "metadata": {
        "id": "ryn5zrhdocRh"
      },
      "outputs": [],
      "source": [
        "### Create the Stacked LSTM model\n",
        "from tensorflow.keras.models import Sequential\n",
        "from tensorflow.keras.layers import Dense\n",
        "from tensorflow.keras.layers import LSTM"
      ]
    },
    {
      "cell_type": "code",
      "execution_count": 24,
      "metadata": {
        "id": "BbotkiXiogTH"
      },
      "outputs": [],
      "source": [
        "model=Sequential()\n",
        "model.add(LSTM(50,return_sequences=True,input_shape=(100,1)))\n",
        "model.add(LSTM(50,return_sequences=True))\n",
        "model.add(LSTM(50))\n",
        "model.add(Dense(1))\n",
        "model.compile(loss='mean_squared_error',optimizer='adam')"
      ]
    },
    {
      "cell_type": "code",
      "execution_count": 25,
      "metadata": {
        "colab": {
          "base_uri": "https://localhost:8080/"
        },
        "id": "zeemBUheoizp",
        "outputId": "829306a8-1026-4aa9-cf8b-d520cf2777bb"
      },
      "outputs": [
        {
          "name": "stdout",
          "output_type": "stream",
          "text": [
            "Model: \"sequential\"\n",
            "_________________________________________________________________\n",
            "Layer (type)                 Output Shape              Param #   \n",
            "=================================================================\n",
            "lstm (LSTM)                  (None, 100, 50)           10400     \n",
            "_________________________________________________________________\n",
            "lstm_1 (LSTM)                (None, 100, 50)           20200     \n",
            "_________________________________________________________________\n",
            "lstm_2 (LSTM)                (None, 50)                20200     \n",
            "_________________________________________________________________\n",
            "dense (Dense)                (None, 1)                 51        \n",
            "=================================================================\n",
            "Total params: 50,851\n",
            "Trainable params: 50,851\n",
            "Non-trainable params: 0\n",
            "_________________________________________________________________\n"
          ]
        }
      ],
      "source": [
        "model.summary()"
      ]
    },
    {
      "cell_type": "code",
      "execution_count": 27,
      "metadata": {
        "colab": {
          "base_uri": "https://localhost:8080/"
        },
        "id": "kWOZ9ooAosWF",
        "outputId": "b911c305-c627-4c0a-d411-92ec552e1b86"
      },
      "outputs": [
        {
          "name": "stdout",
          "output_type": "stream",
          "text": [
            "Epoch 1/100\n",
            "89/89 [==============================] - 17s 152ms/step - loss: 3.0285e-04 - val_loss: 0.0012\n",
            "Epoch 2/100\n",
            "89/89 [==============================] - 12s 137ms/step - loss: 3.2276e-05 - val_loss: 0.0022\n",
            "Epoch 3/100\n",
            "89/89 [==============================] - 12s 135ms/step - loss: 3.0501e-05 - val_loss: 0.0021\n",
            "Epoch 4/100\n",
            "89/89 [==============================] - 13s 141ms/step - loss: 2.5374e-05 - val_loss: 0.0021\n",
            "Epoch 5/100\n",
            "89/89 [==============================] - 12s 139ms/step - loss: 2.2682e-05 - val_loss: 0.0020\n",
            "Epoch 6/100\n",
            "89/89 [==============================] - 12s 138ms/step - loss: 2.1736e-05 - val_loss: 0.0020\n",
            "Epoch 7/100\n",
            "89/89 [==============================] - 12s 137ms/step - loss: 2.1599e-05 - val_loss: 0.0021\n",
            "Epoch 8/100\n",
            "89/89 [==============================] - 12s 136ms/step - loss: 1.8069e-05 - val_loss: 0.0011\n",
            "Epoch 9/100\n",
            "89/89 [==============================] - 12s 136ms/step - loss: 1.8305e-05 - val_loss: 8.1648e-04\n",
            "Epoch 10/100\n",
            "89/89 [==============================] - 12s 136ms/step - loss: 1.5394e-05 - val_loss: 9.7197e-04\n",
            "Epoch 11/100\n",
            "89/89 [==============================] - 12s 135ms/step - loss: 1.6853e-05 - val_loss: 0.0011\n",
            "Epoch 12/100\n",
            "89/89 [==============================] - 12s 139ms/step - loss: 1.5710e-05 - val_loss: 0.0010\n",
            "Epoch 13/100\n",
            "89/89 [==============================] - 12s 136ms/step - loss: 1.5222e-05 - val_loss: 7.7695e-04\n",
            "Epoch 14/100\n",
            "89/89 [==============================] - 12s 137ms/step - loss: 1.4375e-05 - val_loss: 2.2806e-04\n",
            "Epoch 15/100\n",
            "89/89 [==============================] - 12s 139ms/step - loss: 2.0915e-05 - val_loss: 5.1311e-04\n",
            "Epoch 16/100\n",
            "89/89 [==============================] - 12s 137ms/step - loss: 1.4700e-05 - val_loss: 3.9894e-04\n",
            "Epoch 17/100\n",
            "89/89 [==============================] - 12s 136ms/step - loss: 1.3191e-05 - val_loss: 5.0486e-04\n",
            "Epoch 18/100\n",
            "89/89 [==============================] - 12s 138ms/step - loss: 1.4500e-05 - val_loss: 7.1245e-04\n",
            "Epoch 19/100\n",
            "89/89 [==============================] - 12s 137ms/step - loss: 1.2555e-05 - val_loss: 4.8639e-04\n",
            "Epoch 20/100\n",
            "89/89 [==============================] - 13s 141ms/step - loss: 1.1959e-05 - val_loss: 5.3152e-04\n",
            "Epoch 21/100\n",
            "89/89 [==============================] - 12s 137ms/step - loss: 1.2136e-05 - val_loss: 3.8287e-04\n",
            "Epoch 22/100\n",
            "89/89 [==============================] - 12s 136ms/step - loss: 1.1945e-05 - val_loss: 2.0755e-04\n",
            "Epoch 23/100\n",
            "89/89 [==============================] - 12s 137ms/step - loss: 1.0200e-05 - val_loss: 1.8725e-04\n",
            "Epoch 24/100\n",
            "89/89 [==============================] - 12s 137ms/step - loss: 1.0572e-05 - val_loss: 1.4414e-04\n",
            "Epoch 25/100\n",
            "89/89 [==============================] - 13s 141ms/step - loss: 1.1445e-05 - val_loss: 3.5393e-04\n",
            "Epoch 26/100\n",
            "89/89 [==============================] - 12s 140ms/step - loss: 1.1159e-05 - val_loss: 2.5205e-04\n",
            "Epoch 27/100\n",
            "89/89 [==============================] - 12s 136ms/step - loss: 9.4886e-06 - val_loss: 1.9541e-04\n",
            "Epoch 28/100\n",
            "89/89 [==============================] - 12s 136ms/step - loss: 9.9500e-06 - val_loss: 8.2017e-05\n",
            "Epoch 29/100\n",
            "89/89 [==============================] - 12s 136ms/step - loss: 9.3898e-06 - val_loss: 3.2568e-04\n",
            "Epoch 30/100\n",
            "89/89 [==============================] - 12s 137ms/step - loss: 9.4244e-06 - val_loss: 1.8392e-04\n",
            "Epoch 31/100\n",
            "89/89 [==============================] - 13s 148ms/step - loss: 9.6607e-06 - val_loss: 9.5931e-05\n",
            "Epoch 32/100\n",
            "89/89 [==============================] - 13s 146ms/step - loss: 8.2186e-06 - val_loss: 4.7536e-04\n",
            "Epoch 33/100\n",
            "89/89 [==============================] - 12s 137ms/step - loss: 8.6474e-06 - val_loss: 1.9428e-04\n",
            "Epoch 34/100\n",
            "89/89 [==============================] - 12s 140ms/step - loss: 8.2805e-06 - val_loss: 1.3028e-04\n",
            "Epoch 35/100\n",
            "89/89 [==============================] - 12s 136ms/step - loss: 8.9649e-06 - val_loss: 1.3275e-04\n",
            "Epoch 36/100\n",
            "89/89 [==============================] - 12s 137ms/step - loss: 7.5208e-06 - val_loss: 2.2593e-04\n",
            "Epoch 37/100\n",
            "89/89 [==============================] - 12s 138ms/step - loss: 7.9687e-06 - val_loss: 2.6562e-04\n",
            "Epoch 38/100\n",
            "89/89 [==============================] - 12s 137ms/step - loss: 7.5673e-06 - val_loss: 9.4520e-05\n",
            "Epoch 39/100\n",
            "89/89 [==============================] - 12s 138ms/step - loss: 7.1366e-06 - val_loss: 7.7835e-05\n",
            "Epoch 40/100\n",
            "89/89 [==============================] - 12s 140ms/step - loss: 6.2872e-06 - val_loss: 1.8817e-04\n",
            "Epoch 41/100\n",
            "89/89 [==============================] - 12s 140ms/step - loss: 6.2934e-06 - val_loss: 5.2821e-05\n",
            "Epoch 42/100\n",
            "89/89 [==============================] - 12s 137ms/step - loss: 6.3474e-06 - val_loss: 6.1352e-05\n",
            "Epoch 43/100\n",
            "89/89 [==============================] - 13s 143ms/step - loss: 6.6330e-06 - val_loss: 1.0930e-04\n",
            "Epoch 44/100\n",
            "89/89 [==============================] - 12s 139ms/step - loss: 7.9858e-06 - val_loss: 8.6771e-05\n",
            "Epoch 45/100\n",
            "89/89 [==============================] - 12s 137ms/step - loss: 7.5509e-06 - val_loss: 5.5563e-05\n",
            "Epoch 46/100\n",
            "89/89 [==============================] - 12s 138ms/step - loss: 5.7774e-06 - val_loss: 8.0412e-05\n",
            "Epoch 47/100\n",
            "89/89 [==============================] - 12s 138ms/step - loss: 6.2793e-06 - val_loss: 2.2040e-04\n",
            "Epoch 48/100\n",
            "89/89 [==============================] - 13s 142ms/step - loss: 6.1751e-06 - val_loss: 8.8623e-05\n",
            "Epoch 49/100\n",
            "89/89 [==============================] - 12s 139ms/step - loss: 5.6023e-06 - val_loss: 1.9658e-04\n",
            "Epoch 50/100\n",
            "89/89 [==============================] - 12s 138ms/step - loss: 5.1005e-06 - val_loss: 2.3241e-04\n",
            "Epoch 51/100\n",
            "89/89 [==============================] - 12s 137ms/step - loss: 4.9396e-06 - val_loss: 2.3050e-04\n",
            "Epoch 52/100\n",
            "89/89 [==============================] - 13s 142ms/step - loss: 5.9167e-06 - val_loss: 1.2543e-04\n",
            "Epoch 53/100\n",
            "89/89 [==============================] - 12s 138ms/step - loss: 4.9728e-06 - val_loss: 6.3949e-05\n",
            "Epoch 54/100\n",
            "89/89 [==============================] - 13s 141ms/step - loss: 5.5024e-06 - val_loss: 8.8269e-05\n",
            "Epoch 55/100\n",
            "89/89 [==============================] - 12s 138ms/step - loss: 6.2272e-06 - val_loss: 3.1945e-04\n",
            "Epoch 56/100\n",
            "89/89 [==============================] - 12s 140ms/step - loss: 5.5269e-06 - val_loss: 1.0392e-04\n",
            "Epoch 57/100\n",
            "89/89 [==============================] - 12s 139ms/step - loss: 4.6172e-06 - val_loss: 1.0319e-04\n",
            "Epoch 58/100\n",
            "89/89 [==============================] - 12s 138ms/step - loss: 5.3223e-06 - val_loss: 3.1451e-04\n",
            "Epoch 59/100\n",
            "89/89 [==============================] - 12s 140ms/step - loss: 5.4557e-06 - val_loss: 4.1235e-04\n",
            "Epoch 60/100\n",
            "89/89 [==============================] - 12s 140ms/step - loss: 7.6084e-06 - val_loss: 7.7246e-05\n",
            "Epoch 61/100\n",
            "89/89 [==============================] - 12s 138ms/step - loss: 5.1916e-06 - val_loss: 7.4963e-05\n",
            "Epoch 62/100\n",
            "89/89 [==============================] - 12s 139ms/step - loss: 4.7040e-06 - val_loss: 7.7278e-05\n",
            "Epoch 63/100\n",
            "89/89 [==============================] - 12s 139ms/step - loss: 4.8349e-06 - val_loss: 8.5292e-05\n",
            "Epoch 64/100\n",
            "89/89 [==============================] - 12s 140ms/step - loss: 4.9111e-06 - val_loss: 1.7899e-04\n",
            "Epoch 65/100\n",
            "89/89 [==============================] - 13s 141ms/step - loss: 6.4779e-06 - val_loss: 2.3152e-04\n",
            "Epoch 66/100\n",
            "89/89 [==============================] - 12s 138ms/step - loss: 5.0748e-06 - val_loss: 1.2436e-04\n",
            "Epoch 67/100\n",
            "89/89 [==============================] - 12s 139ms/step - loss: 4.6050e-06 - val_loss: 1.8307e-04\n",
            "Epoch 68/100\n",
            "89/89 [==============================] - 12s 140ms/step - loss: 4.7057e-06 - val_loss: 8.4872e-05\n",
            "Epoch 69/100\n",
            "89/89 [==============================] - 12s 139ms/step - loss: 4.7940e-06 - val_loss: 1.8176e-04\n",
            "Epoch 70/100\n",
            "89/89 [==============================] - 12s 138ms/step - loss: 4.5684e-06 - val_loss: 1.4744e-04\n",
            "Epoch 71/100\n",
            "89/89 [==============================] - 12s 138ms/step - loss: 4.8782e-06 - val_loss: 1.6590e-04\n",
            "Epoch 72/100\n",
            "89/89 [==============================] - 12s 139ms/step - loss: 5.9227e-06 - val_loss: 1.2410e-04\n",
            "Epoch 73/100\n",
            "89/89 [==============================] - 12s 139ms/step - loss: 5.8260e-06 - val_loss: 1.7657e-04\n",
            "Epoch 74/100\n",
            "89/89 [==============================] - 12s 138ms/step - loss: 4.8826e-06 - val_loss: 1.9916e-04\n",
            "Epoch 75/100\n",
            "89/89 [==============================] - 12s 139ms/step - loss: 4.7934e-06 - val_loss: 1.5202e-04\n",
            "Epoch 76/100\n",
            "89/89 [==============================] - 12s 138ms/step - loss: 5.1112e-06 - val_loss: 1.8382e-04\n",
            "Epoch 77/100\n",
            "89/89 [==============================] - 12s 138ms/step - loss: 4.5088e-06 - val_loss: 2.6228e-04\n",
            "Epoch 78/100\n",
            "89/89 [==============================] - 12s 139ms/step - loss: 4.4193e-06 - val_loss: 3.9272e-04\n",
            "Epoch 79/100\n",
            "89/89 [==============================] - 12s 139ms/step - loss: 4.7934e-06 - val_loss: 2.7042e-04\n",
            "Epoch 80/100\n",
            "89/89 [==============================] - 12s 139ms/step - loss: 4.5417e-06 - val_loss: 1.7312e-04\n",
            "Epoch 81/100\n",
            "89/89 [==============================] - 12s 138ms/step - loss: 4.9185e-06 - val_loss: 1.0789e-04\n",
            "Epoch 82/100\n",
            "89/89 [==============================] - 12s 140ms/step - loss: 5.1754e-06 - val_loss: 2.1698e-04\n",
            "Epoch 83/100\n",
            "89/89 [==============================] - 12s 138ms/step - loss: 4.5904e-06 - val_loss: 1.7171e-04\n",
            "Epoch 84/100\n",
            "89/89 [==============================] - 12s 137ms/step - loss: 4.7210e-06 - val_loss: 1.3519e-04\n",
            "Epoch 85/100\n",
            "89/89 [==============================] - 12s 139ms/step - loss: 5.0704e-06 - val_loss: 1.9262e-04\n",
            "Epoch 86/100\n",
            "89/89 [==============================] - 13s 142ms/step - loss: 4.7145e-06 - val_loss: 1.7981e-04\n",
            "Epoch 87/100\n",
            "89/89 [==============================] - 13s 142ms/step - loss: 5.0744e-06 - val_loss: 1.8738e-04\n",
            "Epoch 88/100\n",
            "89/89 [==============================] - 12s 138ms/step - loss: 5.6761e-06 - val_loss: 2.7828e-04\n",
            "Epoch 89/100\n",
            "89/89 [==============================] - 12s 138ms/step - loss: 4.6083e-06 - val_loss: 2.4755e-04\n",
            "Epoch 90/100\n",
            "89/89 [==============================] - 13s 141ms/step - loss: 4.9781e-06 - val_loss: 1.0220e-04\n",
            "Epoch 91/100\n",
            "89/89 [==============================] - 12s 139ms/step - loss: 5.3819e-06 - val_loss: 2.5877e-04\n",
            "Epoch 92/100\n",
            "89/89 [==============================] - 12s 138ms/step - loss: 4.7920e-06 - val_loss: 2.7331e-04\n",
            "Epoch 93/100\n",
            "89/89 [==============================] - 12s 140ms/step - loss: 4.8106e-06 - val_loss: 2.9179e-04\n",
            "Epoch 94/100\n",
            "89/89 [==============================] - 12s 140ms/step - loss: 5.6432e-06 - val_loss: 4.6417e-04\n",
            "Epoch 95/100\n",
            "89/89 [==============================] - 12s 139ms/step - loss: 5.2315e-06 - val_loss: 2.8124e-04\n",
            "Epoch 96/100\n",
            "89/89 [==============================] - 12s 139ms/step - loss: 4.3369e-06 - val_loss: 2.2047e-04\n",
            "Epoch 97/100\n",
            "89/89 [==============================] - 12s 140ms/step - loss: 5.1678e-06 - val_loss: 1.9658e-04\n",
            "Epoch 98/100\n",
            "89/89 [==============================] - 12s 139ms/step - loss: 4.6784e-06 - val_loss: 2.7557e-04\n",
            "Epoch 99/100\n",
            "89/89 [==============================] - 12s 140ms/step - loss: 4.4535e-06 - val_loss: 1.7731e-04\n",
            "Epoch 100/100\n",
            "89/89 [==============================] - 12s 140ms/step - loss: 4.8756e-06 - val_loss: 3.0560e-04\n"
          ]
        },
        {
          "data": {
            "text/plain": [
              "<keras.callbacks.History at 0x7f786e81aad0>"
            ]
          },
          "execution_count": 27,
          "metadata": {},
          "output_type": "execute_result"
        }
      ],
      "source": [
        "model.fit(X_train,y_train,validation_data=(X_test,ytest),epochs=100,batch_size=64,verbose=1)"
      ]
    },
    {
      "cell_type": "code",
      "execution_count": 28,
      "metadata": {
        "id": "8u4h3ybNozVl"
      },
      "outputs": [],
      "source": [
        "### Lets Do the prediction and check performance metrics\n",
        "train_predict=model.predict(X_train)\n",
        "test_predict=model.predict(X_test)"
      ]
    },
    {
      "cell_type": "code",
      "execution_count": 29,
      "metadata": {
        "id": "ytY-_Fb3v1-8"
      },
      "outputs": [],
      "source": [
        "##Transformback to original form\n",
        "train_predict=scaler.inverse_transform(train_predict)\n",
        "test_predict=scaler.inverse_transform(test_predict)"
      ]
    },
    {
      "cell_type": "code",
      "execution_count": 30,
      "metadata": {
        "colab": {
          "base_uri": "https://localhost:8080/"
        },
        "id": "lPwf_s7Ov72I",
        "outputId": "ea6b5f4a-215f-4ded-ee41-2881d4c582cb"
      },
      "outputs": [
        {
          "data": {
            "text/plain": [
              "21.627650534428838"
            ]
          },
          "execution_count": 30,
          "metadata": {},
          "output_type": "execute_result"
        }
      ],
      "source": [
        "### Calculate RMSE performance metrics\n",
        "import math\n",
        "from sklearn.metrics import mean_squared_error\n",
        "math.sqrt(mean_squared_error(y_train,train_predict))"
      ]
    },
    {
      "cell_type": "code",
      "execution_count": 31,
      "metadata": {
        "colab": {
          "base_uri": "https://localhost:8080/"
        },
        "id": "OXnYo-JJwAuc",
        "outputId": "eace4246-e454-4046-a091-6a7df1419f2d"
      },
      "outputs": [
        {
          "data": {
            "text/plain": [
              "87.57439554116466"
            ]
          },
          "execution_count": 31,
          "metadata": {},
          "output_type": "execute_result"
        }
      ],
      "source": [
        "### Test Data RMSE\n",
        "math.sqrt(mean_squared_error(ytest,test_predict))"
      ]
    },
    {
      "cell_type": "code",
      "execution_count": 32,
      "metadata": {
        "colab": {
          "base_uri": "https://localhost:8080/",
          "height": 265
        },
        "id": "E33hPT7TwFHv",
        "outputId": "45a9fc71-875c-459f-e48b-f7f1c3644ec1"
      },
      "outputs": [
        {
          "data": {
            "image/png": "[encoded data removed]",
            "text/plain": [
              "<Figure size 432x288 with 1 Axes>"
            ]
          },
          "metadata": {
            "needs_background": "light"
          },
          "output_type": "display_data"
        }
      ],
      "source": [
        "### Plotting \n",
        "# shift train predictions for plotting\n",
        "look_back=100\n",
        "trainPredictPlot = numpy.empty_like(df1)\n",
        "trainPredictPlot[:, :] = np.nan\n",
        "trainPredictPlot[look_back:len(train_predict)+look_back, :] = train_predict\n",
        "# shift test predictions for plotting\n",
        "testPredictPlot = numpy.empty_like(df1)\n",
        "testPredictPlot[:, :] = numpy.nan\n",
        "testPredictPlot[len(train_predict)+(look_back*2)+1:len(df1)-1, :] = test_predict\n",
        "# plot baseline and predictions\n",
        "plt.plot(scaler.inverse_transform(df1))\n",
        "plt.plot(trainPredictPlot)\n",
        "plt.plot(testPredictPlot)\n",
        "plt.show()"
      ]
    },
    {
      "cell_type": "code",
      "execution_count": 33,
      "metadata": {
        "colab": {
          "base_uri": "https://localhost:8080/"
        },
        "id": "txIphGn5wHot",
        "outputId": "f778012f-535e-4393-d113-c1a68371742e"
      },
      "outputs": [
        {
          "data": {
            "text/plain": [
              "3100"
            ]
          },
          "execution_count": 33,
          "metadata": {},
          "output_type": "execute_result"
        }
      ],
      "source": [
        "len(test_data)"
      ]
    },
    {
      "cell_type": "code",
      "execution_count": 34,
      "metadata": {
        "colab": {
          "base_uri": "https://localhost:8080/"
        },
        "id": "F87b10YVwMSB",
        "outputId": "2609289f-0061-403a-95e2-8ee9582d39c2"
      },
      "outputs": [
        {
          "data": {
            "text/plain": [
              "(1, 2759)"
            ]
          },
          "execution_count": 34,
          "metadata": {},
          "output_type": "execute_result"
        }
      ],
      "source": [
        "x_input=test_data[341:].reshape(1,-1)\n",
        "x_input.shape"
      ]
    },
    {
      "cell_type": "code",
      "execution_count": 35,
      "metadata": {
        "id": "KFOFmLKLwOei"
      },
      "outputs": [],
      "source": [
        "temp_input=list(x_input)\n",
        "temp_input=temp_input[0].tolist()"
      ]
    },
    {
      "cell_type": "code",
      "execution_count": 36,
      "metadata": {
        "colab": {
          "base_uri": "https://localhost:8080/"
        },
        "id": "sBpIP6rmwRoI",
        "outputId": "233d7178-aa2e-46f1-d3ff-0a61fca1a0ac"
      },
      "outputs": [
        {
          "data": {
            "text/plain": [
              "[0.10886571144633439,\n",
              " 0.10749103223893476,\n",
              " 0.10317607746936397,\n",
              " 0.10214506806381428,\n",
              " 0.09996849750763166,\n",
              " 0.09920478521834294,\n",
              " 0.0951571275650332,\n",
              " 0.09893748810208194,\n",
              " 0.09817377581279325,\n",
              " 0.09851744561464315,\n",
              " 0.10069401617082575,\n",
              " 0.10222144074940316,\n",
              " 0.09813559675329896,\n",
              " 0.09622632331337734,\n",
              " 0.09553898370967752,\n",
              " 0.09431704987345572,\n",
              " 0.09511894122223873,\n",
              " 0.09763918158027124,\n",
              " 0.09702821466216034,\n",
              " 0.101152245001059,\n",
              " 0.10015942193830375,\n",
              " 0.10035035365227601,\n",
              " 0.100617650768537,\n",
              " 0.09874656367140984,\n",
              " 0.09805922406771005,\n",
              " 0.0963026887156661,\n",
              " 0.09511894122223873,\n",
              " 0.09332422681070049,\n",
              " 0.09248414183582286,\n",
              " 0.08866559495597964,\n",
              " 0.08752003380534673,\n",
              " 0.08809281438066317,\n",
              " 0.08851285686810198,\n",
              " 0.09061305473869569,\n",
              " 0.0924459554930284,\n",
              " 0.09286599798046721,\n",
              " 0.09233140374794521,\n",
              " 0.09446978796133336,\n",
              " 0.09561534911196627,\n",
              " 0.09679910388869378,\n",
              " 0.0970664010049548,\n",
              " 0.09469889873479993,\n",
              " 0.09599720525661062,\n",
              " 0.09695184197657143,\n",
              " 0.09557717005247199,\n",
              " 0.09832652118397105,\n",
              " 0.09821196215558771,\n",
              " 0.09931934424672632,\n",
              " 0.09954845502019286,\n",
              " 0.09874656367140984,\n",
              " 0.09905204713046532,\n",
              " 0.09821196215558771,\n",
              " 0.1001976082810982,\n",
              " 0.09954845502019286,\n",
              " 0.09790647869653224,\n",
              " 0.0965318067724328,\n",
              " 0.09721913909283245,\n",
              " 0.09744825714959914,\n",
              " 0.09538623833849973,\n",
              " 0.09458434698971671,\n",
              " 0.09317148143952265,\n",
              " 0.09282781163767276,\n",
              " 0.09320966778231711,\n",
              " 0.09401155913110011,\n",
              " 0.09443160161853892,\n",
              " 0.09298055700885055,\n",
              " 0.09217865837676739,\n",
              " 0.09236959009073968,\n",
              " 0.09145313971357331,\n",
              " 0.09168225048703987,\n",
              " 0.09061305473869569,\n",
              " 0.0910330972261345,\n",
              " 0.08992571513499589,\n",
              " 0.08927656187409051,\n",
              " 0.09091853819775114,\n",
              " 0.09107128356892893,\n",
              " 0.09240777643353411,\n",
              " 0.09114764897121769,\n",
              " 0.0910330972261345,\n",
              " 0.09133858068518996,\n",
              " 0.09072761376707907,\n",
              " 0.09553898370967752,\n",
              " 0.09523350025062209,\n",
              " 0.09557717005247199,\n",
              " 0.09637906140125496,\n",
              " 0.09595901891381615,\n",
              " 0.09676091754589934,\n",
              " 0.09569172179755517,\n",
              " 0.0936297102697559,\n",
              " 0.09294237066605611,\n",
              " 0.09427886353066128,\n",
              " 0.09408793181668901,\n",
              " 0.09389700738601692,\n",
              " 0.09320966778231711,\n",
              " 0.09317148143952265,\n",
              " 0.09275143895208385,\n",
              " 0.0909567245405456,\n",
              " 0.09263688720700067,\n",
              " 0.09294237066605611,\n",
              " 0.09332422681070049,\n",
              " 0.09347696489857811,\n",
              " 0.09355333758416702,\n",
              " 0.09446978796133336,\n",
              " 0.09641724774404943,\n",
              " 0.09599720525661062,\n",
              " 0.09718096003333815,\n",
              " 0.09825014849838214,\n",
              " 0.09550079736688309,\n",
              " 0.0963026887156661,\n",
              " 0.09672273120310489,\n",
              " 0.09656998583192708,\n",
              " 0.09584446716873297,\n",
              " 0.09855563195743759,\n",
              " 0.09912841253275406,\n",
              " 0.10000668385042613,\n",
              " 0.10149591480290891,\n",
              " 0.10256511055125307,\n",
              " 0.104245265934408,\n",
              " 0.10287059401030854,\n",
              " 0.10329062921444719,\n",
              " 0.10218325440660873,\n",
              " 0.10203050903543093,\n",
              " 0.10256511055125307,\n",
              " 0.10252692420845862,\n",
              " 0.10153410114570337,\n",
              " 0.09996849750763166,\n",
              " 0.09970120039137065,\n",
              " 0.09821196215558771,\n",
              " 0.09729551177842134,\n",
              " 0.09832652118397105,\n",
              " 0.09775374060865459,\n",
              " 0.09790647869653224,\n",
              " 0.09557717005247199,\n",
              " 0.0965318067724328,\n",
              " 0.09607357794219953,\n",
              " 0.0963026887156661,\n",
              " 0.096111764284994,\n",
              " 0.09909023347325976,\n",
              " 0.10233599249448638,\n",
              " 0.10283240766751409,\n",
              " 0.10214506806381428,\n",
              " 0.10225962709219763,\n",
              " 0.10363429901629707,\n",
              " 0.10306151844098062,\n",
              " 0.10405434150373588,\n",
              " 0.10371067170188598,\n",
              " 0.10512353725208005,\n",
              " 0.10600180128645197,\n",
              " 0.10653639551897395,\n",
              " 0.10619272571712404,\n",
              " 0.10584905591527416,\n",
              " 0.1068418789780294,\n",
              " 0.10730010780826266,\n",
              " 0.10772014301240132,\n",
              " 0.1068418789780294,\n",
              " 0.10661276820456286,\n",
              " 0.10646002283338503,\n",
              " 0.10600180128645197,\n",
              " 0.1062309120599185,\n",
              " 0.1064982091761795,\n",
              " 0.1069182516636183,\n",
              " 0.10657458186176841,\n",
              " 0.10970578913791182,\n",
              " 0.10886571144633439,\n",
              " 0.10741465955334584,\n",
              " 0.1069946243492072,\n",
              " 0.10867477973236213,\n",
              " 0.10730010780826266,\n",
              " 0.10772014301240132,\n",
              " 0.10909482221980092,\n",
              " 0.10836929627330665,\n",
              " 0.10791107472637358,\n",
              " 0.1066509545473573,\n",
              " 0.10802562647145675,\n",
              " 0.1082929308710179,\n",
              " 0.1095530510500342,\n",
              " 0.10989672085188408,\n",
              " 0.1056199451418076,\n",
              " 0.10554357245621869,\n",
              " 0.10653639551897395,\n",
              " 0.10634547108830185,\n",
              " 0.10523808899716323,\n",
              " 0.1056963178273965,\n",
              " 0.1073382941510571,\n",
              " 0.10764377761011258,\n",
              " 0.10646002283338503,\n",
              " 0.10466530842184679,\n",
              " 0.10371067170188598,\n",
              " 0.10363429901629707,\n",
              " 0.10260328961074737,\n",
              " 0.10283240766751409,\n",
              " 0.10355792633070818,\n",
              " 0.10298514575539174,\n",
              " 0.10119043134385347,\n",
              " 0.10119043134385347,\n",
              " 0.10187777094755328,\n",
              " 0.10103768597267566,\n",
              " 0.101152245001059,\n",
              " 0.09954845502019286,\n",
              " 0.09924297156113739,\n",
              " 0.09970120039137065,\n",
              " 0.09874656367140984,\n",
              " 0.09786829235373777,\n",
              " 0.09859381830023205,\n",
              " 0.09851744561464315,\n",
              " 0.09668454486031043,\n",
              " 0.09771555426586015,\n",
              " 0.09775374060865459,\n",
              " 0.09660817217472153,\n",
              " 0.09431704987345572,\n",
              " 0.09427886353066128,\n",
              " 0.09435522893295002,\n",
              " 0.09637906140125496,\n",
              " 0.09626450237287164,\n",
              " 0.09718096003333815,\n",
              " 0.09821196215558771,\n",
              " 0.0974864434923936,\n",
              " 0.09668454486031043,\n",
              " 0.09699002831936589,\n",
              " 0.09744825714959914,\n",
              " 0.09660817217472153,\n",
              " 0.09695184197657143,\n",
              " 0.09721913909283245,\n",
              " 0.09809741041050452,\n",
              " 0.0995102686773984,\n",
              " 0.09970120039137065,\n",
              " 0.09920478521834294,\n",
              " 0.09886111541649305,\n",
              " 0.09756280889468234,\n",
              " 0.09752462255188789,\n",
              " 0.09672273120310489,\n",
              " 0.0965318067724328,\n",
              " 0.09542442468129417,\n",
              " 0.09569172179755517,\n",
              " 0.0980210377249156,\n",
              " 0.09710458734774924,\n",
              " 0.09744825714959914,\n",
              " 0.09966301404857619,\n",
              " 0.1003885327117703,\n",
              " 0.10164865289078656,\n",
              " 0.0986320046430265,\n",
              " 0.09763918158027124,\n",
              " 0.09821196215558771,\n",
              " 0.0991665988755485,\n",
              " 0.09813559675329896,\n",
              " 0.09844108021235441,\n",
              " 0.09828833484117658,\n",
              " 0.0976773679230657,\n",
              " 0.09649362042963833,\n",
              " 0.09634087505846053,\n",
              " 0.09523350025062209,\n",
              " 0.09347696489857811,\n",
              " 0.09328604046790602,\n",
              " 0.09393519372881136,\n",
              " 0.09404974547389454,\n",
              " 0.09317148143952265,\n",
              " 0.09194954760330085,\n",
              " 0.09187317491771195,\n",
              " 0.09202592028888974,\n",
              " 0.09385882104322246,\n",
              " 0.09420249084507239,\n",
              " 0.0951571275650332,\n",
              " 0.09294237066605611,\n",
              " 0.09214047203397294,\n",
              " 0.0909567245405456,\n",
              " 0.09133858068518996,\n",
              " 0.09152950511586205,\n",
              " 0.09107128356892893,\n",
              " 0.09114764897121769,\n",
              " 0.09019301225125688,\n",
              " 0.09145313971357331,\n",
              " 0.09214047203397294,\n",
              " 0.09030757127964024,\n",
              " 0.0913003943423955,\n",
              " 0.09229321740515077,\n",
              " 0.09309510875393374,\n",
              " 0.09420249084507239,\n",
              " 0.09378244835763357,\n",
              " 0.09370607567204466,\n",
              " 0.0924459554930284,\n",
              " 0.09588265351152743,\n",
              " 0.09817377581279325,\n",
              " 0.0974864434923936,\n",
              " 0.09893748810208194,\n",
              " 0.09901386078767085,\n",
              " 0.09905204713046532,\n",
              " 0.1001976082810982,\n",
              " 0.10187777094755328,\n",
              " 0.10245055152286972,\n",
              " 0.1013431694317311,\n",
              " 0.10099950691318138,\n",
              " 0.1013431694317311,\n",
              " 0.1007322025136202,\n",
              " 0.10191595729034775,\n",
              " 0.10119043134385347,\n",
              " 0.1048180537930246,\n",
              " 0.10298514575539174,\n",
              " 0.10313789112656954,\n",
              " 0.10477986745023016,\n",
              " 0.1062309120599185,\n",
              " 0.10688006532082384,\n",
              " 0.10401615516094143,\n",
              " 0.10550538611342422,\n",
              " 0.10428345227720243,\n",
              " 0.1037870443874749,\n",
              " 0.10199232269263647,\n",
              " 0.10245055152286972,\n",
              " 0.09870837732861538,\n",
              " 0.09771555426586015,\n",
              " 0.0931332950967282,\n",
              " 0.09733369812121577,\n",
              " 0.0920641066316842,\n",
              " 0.09584446716873297,\n",
              " 0.09550079736688309,\n",
              " 0.0970664010049548,\n",
              " 0.0964554340868439,\n",
              " 0.09607357794219953,\n",
              " 0.09385882104322246,\n",
              " 0.0914913187730676,\n",
              " 0.0912240216568066,\n",
              " 0.09404974547389454,\n",
              " 0.09473708507759436,\n",
              " 0.09347696489857811,\n",
              " 0.09607357794219953,\n",
              " 0.09832652118397105,\n",
              " 0.09981575213645386,\n",
              " 0.10122861768664794,\n",
              " 0.09973937945086495,\n",
              " 0.09817377581279325,\n",
              " 0.0970664010049548,\n",
              " 0.09893748810208194,\n",
              " 0.09977756579365939,\n",
              " 0.0979446650393267,\n",
              " 0.09851744561464315,\n",
              " 0.09909023347325976,\n",
              " 0.10084676154200356,\n",
              " 0.10271784863913072,\n",
              " 0.10321426381215844,\n",
              " 0.10355792633070818,\n",
              " 0.10267966229633627,\n",
              " 0.0988993017592875,\n",
              " 0.09534805199570529,\n",
              " 0.09534805199570529,\n",
              " 0.09679910388869378,\n",
              " 0.0976773679230657,\n",
              " 0.09733369812121577,\n",
              " 0.09683729023148822,\n",
              " 0.09469889873479993,\n",
              " 0.09332422681070049,\n",
              " 0.09641724774404943,\n",
              " 0.09851744561464315,\n",
              " 0.10023579462389266,\n",
              " 0.09989212482204275,\n",
              " 0.10252692420845862,\n",
              " 0.10275603498192518,\n",
              " 0.10260328961074737,\n",
              " 0.10344337458562498,\n",
              " 0.1037870443874749,\n",
              " 0.10267966229633627,\n",
              " 0.10393978247535254,\n",
              " 0.10325244287165272,\n",
              " 0.10290878035310298,\n",
              " 0.10336700190003607,\n",
              " 0.10348156092841942,\n",
              " 0.10203050903543093,\n",
              " 0.10119043134385347,\n",
              " 0.10371067170188598,\n",
              " 0.10267966229633627,\n",
              " 0.1013431694317311,\n",
              " 0.0988993017592875,\n",
              " 0.09897567444487641,\n",
              " 0.10096132057038694,\n",
              " 0.09989212482204275,\n",
              " 0.10199232269263647,\n",
              " 0.10336700190003607,\n",
              " 0.09970120039137065,\n",
              " 0.10000668385042613,\n",
              " 0.10241236518007528,\n",
              " 0.10183958460475884,\n",
              " 0.10176321191916991,\n",
              " 0.09920478521834294,\n",
              " 0.09718096003333815,\n",
              " 0.09626450237287164,\n",
              " 0.09511894122223873,\n",
              " 0.09431704987345572,\n",
              " 0.09309510875393374,\n",
              " 0.0924459554930284,\n",
              " 0.09462253333251118,\n",
              " 0.09450797430412781,\n",
              " 0.09733369812121577,\n",
              " 0.0961881369705829,\n",
              " 0.09595901891381615,\n",
              " 0.09779192695144903,\n",
              " 0.09763918158027124,\n",
              " 0.09741007080680471,\n",
              " 0.09664635851751598,\n",
              " 0.09779192695144903,\n",
              " 0.0970664010049548,\n",
              " 0.0980210377249156,\n",
              " 0.09737188446401024,\n",
              " 0.0972573254356269,\n",
              " 0.09893748810208194,\n",
              " 0.09714277369054371,\n",
              " 0.09905204713046532,\n",
              " 0.0980210377249156,\n",
              " 0.09821196215558771,\n",
              " 0.09905204713046532,\n",
              " 0.09909023347325976,\n",
              " 0.09825014849838214,\n",
              " 0.09901386078767085,\n",
              " 0.09878474273090414,\n",
              " 0.10187777094755328,\n",
              " 0.10428345227720243,\n",
              " 0.1053526480255466,\n",
              " 0.1069946243492072,\n",
              " 0.10558175879901315,\n",
              " 0.1059636149436575,\n",
              " 0.10550538611342422,\n",
              " 0.10657458186176841,\n",
              " 0.10752921858172922,\n",
              " 0.10756740492452367,\n",
              " 0.1074528458961403,\n",
              " 0.10703281069200167,\n",
              " 0.11310429353031624,\n",
              " 0.11318066621590514,\n",
              " 0.11169143526342235,\n",
              " 0.1125315129549998,\n",
              " 0.11230240218153324,\n",
              " 0.11127139277598352,\n",
              " 0.11272244466897204,\n",
              " 0.11241696120991661,\n",
              " 0.11379163313401607,\n",
              " 0.11402075119078275,\n",
              " 0.11512812599862121,\n",
              " 0.11497538791074356,\n",
              " 0.11554816848606003,\n",
              " 0.11673191597948737,\n",
              " 0.11715195846692618,\n",
              " 0.11612094906137647,\n",
              " 0.1164264325204319,\n",
              " 0.11516631234141567,\n",
              " 0.11440260005212696,\n",
              " 0.1191376045924367,\n",
              " 0.11898485922125888,\n",
              " 0.11971038516775313,\n",
              " 0.1190612319068478,\n",
              " 0.11944308805149215,\n",
              " 0.1198631232556308,\n",
              " 0.11936671536590326,\n",
              " 0.12135236149141376,\n",
              " 0.12085594631838605,\n",
              " 0.12295615147227992,\n",
              " 0.12215426012349696,\n",
              " 0.1210850570918526,\n",
              " 0.12016860671468625,\n",
              " 0.12123780246303041,\n",
              " 0.12188694844063556,\n",
              " 0.12181058303834685,\n",
              " 0.12200151475231912,\n",
              " 0.12440718879866808,\n",
              " 0.12478905222661264,\n",
              " 0.12509452840236787,\n",
              " 0.12413989168240708,\n",
              " 0.12261248167043,\n",
              " 0.12181058303834685,\n",
              " 0.1215050995792914,\n",
              " 0.12184876938114131,\n",
              " 0.12188694844063556,\n",
              " 0.12410171262291282,\n",
              " 0.12383441550665182,\n",
              " 0.1225742880443354,\n",
              " 0.12230699092807443,\n",
              " 0.12284158516059637,\n",
              " 0.12295615147227992,\n",
              " 0.12161965860767475,\n",
              " 0.11883211385008108,\n",
              " 0.1200158686268086,\n",
              " 0.11841207864594246,\n",
              " 0.1160063900329931,\n",
              " 0.11554816848606003,\n",
              " 0.11795384981570918,\n",
              " 0.11730469655480384,\n",
              " 0.11833570596035352,\n",
              " 0.11971038516775313,\n",
              " 0.11856481673382009,\n",
              " 0.11806840884409255,\n",
              " 0.12345255207870727,\n",
              " 0.12230699092807443,\n",
              " 0.12154328592208585,\n",
              " 0.12261248167043,\n",
              " 0.12226881186858009,\n",
              " 0.1217723966955524,\n",
              " 0.12192514206673022,\n",
              " 0.12188694844063556,\n",
              " 0.1210850570918526,\n",
              " 0.12093231900397497,\n",
              " 0.11795384981570918,\n",
              " 0.11669372963669292,\n",
              " 0.11612094906137647,\n",
              " 0.11711377212413174,\n",
              " 0.11703739943854283,\n",
              " 0.11864118941940899,\n",
              " 0.11680828866507628,\n",
              " 0.11501356697023785,\n",
              " 0.11382981947681049,\n",
              " 0.11314247987311067,\n",
              " 0.11142413814716134,\n",
              " 0.11325703890149405,\n",
              " 0.11329522524428852,\n",
              " 0.11081317122905042,\n",
              " 0.11066042585787263,\n",
              " 0.11062223951507819,\n",
              " 0.1125315129549998,\n",
              " 0.11169143526342235,\n",
              " 0.11111865468810588,\n",
              " 0.1082929308710179,\n",
              " 0.10867477973236213,\n",
              " 0.10852204164448448,\n",
              " 0.1117296216062168,\n",
              " 0.11127139277598352,\n",
              " 0.1128751827568497,\n",
              " 0.11001127259696727,\n",
              " 0.11150051083275024,\n",
              " 0.11088953663133917,\n",
              " 0.11169143526342235,\n",
              " 0.11428804830704375,\n",
              " 0.11360070870334395,\n",
              " 0.11688466135066516,\n",
              " 0.11776292538503709,\n",
              " 0.11474626985397687,\n",
              " 0.11688466135066516,\n",
              " 0.11371526773172731,\n",
              " 0.11428804830704375,\n",
              " 0.11486082888236021,\n",
              " 0.11386800581960495,\n",
              " 0.11646461886322637,\n",
              " 0.11635005983484303,\n",
              " 0.11711377212413174,\n",
              " 0.11688466135066516,\n",
              " 0.11493720156794911,\n",
              " 0.11421167562145486,\n",
              " 0.1132188525586996,\n",
              " 0.11153868989224454,\n",
              " 0.10898026319141756,\n",
              " 0.11188235969409445,\n",
              " 0.11207329140806668,\n",
              " 0.11291336909964414,\n",
              " 0.11593002463070436,\n",
              " 0.11677010232228183,\n",
              " 0.11466990445168812,\n",
              " 0.11146232448995581,\n",
              " 0.11096590931692808,\n",
              " 0.10974397548070626,\n",
              " 0.11100409565972254,\n",
              " 0.11329522524428852,\n",
              " 0.11283699641405526,\n",
              " 0.11218784315314988,\n",
              " 0.11195873237968333,\n",
              " 0.11111865468810588,\n",
              " 0.11325703890149405,\n",
              " 0.11402075119078275,\n",
              " 0.11520449868421014,\n",
              " 0.1154717958004711,\n",
              " 0.11612094906137647,\n",
              " 0.11581546560232102,\n",
              " 0.11570090657393767,\n",
              " 0.1147080835111824,\n",
              " 0.11497538791074356,\n",
              " 0.11719014480972065,\n",
              " 0.11764836635665372,\n",
              " 0.11703739943854283,\n",
              " 0.11726651021200939,\n",
              " 0.11627369443255428,\n",
              " 0.11520449868421014,\n",
              " 0.11635005983484303,\n",
              " 0.11684647500787072,\n",
              " 0.116617356951104,\n",
              " 0.11669372963669292,\n",
              " 0.11543360945767667,\n",
              " 0.11734288289759827,\n",
              " 0.11570090657393767,\n",
              " 0.11570090657393767,\n",
              " 0.11936671536590326,\n",
              " 0.11783929807062597,\n",
              " 0.1169610267529539,\n",
              " 0.11722833115251509,\n",
              " 0.11719014480972065,\n",
              " 0.11780111172783152,\n",
              " 0.11883211385008108,\n",
              " 0.11883211385008108,\n",
              " 0.11871756210499788,\n",
              " 0.1182211469319702,\n",
              " 0.11974857151054759,\n",
              " 0.11875574844779233,\n",
              " 0.11719014480972065,\n",
              " 0.11570090657393767,\n",
              " 0.11486082888236021,\n",
              " 0.11482264253956576,\n",
              " 0.11329522524428852,\n",
              " 0.11226421583873879,\n",
              " 0.11291336909964414,\n",
              " 0.11367708138893284,\n",
              " 0.11432623464983822,\n",
              " 0.11363889504613842,\n",
              " 0.11337159792987742,\n",
              " 0.11146232448995581,\n",
              " 0.11031675605602273,\n",
              " 0.11020220431093952,\n",
              " 0.11115684103090033,\n",
              " 0.11234058852432771,\n",
              " 0.11226421583873879,\n",
              " 0.11264607198338315,\n",
              " 0.11230240218153324,\n",
              " 0.10901844953421203,\n",
              " 0.10657458186176841,\n",
              " 0.10676550629244051,\n",
              " 0.10619272571712404,\n",
              " 0.10611635303153515,\n",
              " 0.1073764732105514,\n",
              " 0.10863660067286783,\n",
              " 0.11237877486712215,\n",
              " 0.11230240218153324,\n",
              " 0.11279881007126079,\n",
              " 0.11367708138893284,\n",
              " 0.11069861220066707,\n",
              " 0.10966760279511738,\n",
              " 0.10974397548070626,\n",
              " 0.10741465955334584,\n",
              " 0.10309970478377509,\n",
              " 0.10214506806381428,\n",
              " 0.10145772846011447,\n",
              " 0.10092313422759247,\n",
              " 0.10172502557637546,\n",
              " 0.10164865289078656,\n",
              " 0.10256511055125307,\n",
              " 0.1054290207111355,\n",
              " 0.104245265934408,\n",
              " 0.10306151844098062,\n",
              " 0.10413071418932478,\n",
              " 0.10256511055125307,\n",
              " 0.10130499037223682,\n",
              " 0.10057946442574256,\n",
              " 0.10035035365227601,\n",
              " 0.10149591480290891,\n",
              " 0.10172502557637546,\n",
              " 0.10069401617082575,\n",
              " 0.10252692420845862,\n",
              " 0.10397796881814698,\n",
              " 0.10367248535909153,\n",
              " 0.10317607746936397,\n",
              " 0.10203050903543093,\n",
              " 0.10313789112656954,\n",
              " 0.10489441919531335,\n",
              " 0.10393978247535254,\n",
              " 0.1053526480255466,\n",
              " 0.10447438399117469,\n",
              " 0.10298514575539174,\n",
              " 0.10222144074940316,\n",
              " 0.10260328961074737,\n",
              " 0.10103768597267566,\n",
              " 0.10164865289078656,\n",
              " 0.10512353725208005,\n",
              " 0.10371067170188598,\n",
              " 0.10176321191916991,\n",
              " 0.10157228748849781,\n",
              " 0.10103768597267566,\n",
              " 0.10161047383129226,\n",
              " 0.10069401617082575,\n",
              " 0.10210688172101981,\n",
              " 0.10233599249448638,\n",
              " 0.10355792633070818,\n",
              " 0.10290878035310298,\n",
              " 0.10371067170188598,\n",
              " 0.10371067170188598,\n",
              " 0.10332881555724163,\n",
              " 0.10508535090928559,\n",
              " 0.10516171631157434,\n",
              " 0.10611635303153515,\n",
              " 0.1062309120599185,\n",
              " 0.10661276820456286,\n",
              " 0.10600180128645197,\n",
              " 0.10447438399117469,\n",
              " 0.10630728474550741,\n",
              " 0.10443619764838023,\n",
              " 0.10466530842184679,\n",
              " 0.10405434150373588,\n",
              " 0.10382523073026935,\n",
              " 0.1048562328525189,\n",
              " 0.1060399876292464,\n",
              " 0.10611635303153515,\n",
              " 0.10668914089015177,\n",
              " 0.10672732723294621,\n",
              " 0.10661276820456286,\n",
              " 0.10676550629244051,\n",
              " 0.10607817397204086,\n",
              " 0.10462712207905234,\n",
              " 0.10565813148460207,\n",
              " 0.10416890053211925,\n",
              " 0.10416890053211925,\n",
              " 0.10584905591527416,\n",
              " 0.1058108695724797,\n",
              " 0.10638365743109629,\n",
              " 0.10714736243708485,\n",
              " 0.10791107472637358,\n",
              " 0.1069182516636183,\n",
              " 0.10710917609429041,\n",
              " 0.10657458186176841,\n",
              " 0.10607817397204086,\n",
              " 0.1062309120599185,\n",
              " 0.10626909840271295,\n",
              " 0.10710917609429041,\n",
              " 0.10672732723294621,\n",
              " 0.10695643800641277,\n",
              " 0.10726192146546822,\n",
              " 0.1077965156979902,\n",
              " 0.1069946243492072,\n",
              " 0.10752921858172922,\n",
              " 0.1071855487798793,\n",
              " 0.1071855487798793,\n",
              " 0.10798744741196248,\n",
              " 0.10890389778912882,\n",
              " 0.10890389778912882,\n",
              " 0.10962941645232292,\n",
              " 0.10871296607515657,\n",
              " 0.10886571144633439,\n",
              " 0.10924756759097871,\n",
              " 0.10882752510353992,\n",
              " 0.11272244466897204,\n",
              " 0.11528087136979903,\n",
              " 0.11016401796814507,\n",
              " 0.10959123739282864,\n",
              " 0.10920938124818426,\n",
              " 0.11027856971322826,\n",
              " 0.10974397548070626,\n",
              " 0.10959123739282864,\n",
              " 0.11333341158708296,\n",
              " 0.11738106924039271,\n",
              " 0.11650280520602084,\n",
              " 0.12093231900397497,\n",
              " 0.12161965860767475,\n",
              " 0.12104687803235831,\n",
              " 0.1241780853085017,\n",
              " 0.1260491651223287,\n",
              " 0.12459812779594054,\n",
              " 0.12627828317909542,\n",
              " 0.1275384106414119,\n",
              " 0.12853122642086695,\n",
              " 0.12685107103771204,\n",
              " 0.12562913720149027,\n",
              " 0.12436900973917382,\n",
              " 0.12448356148425702,\n",
              " 0.12578186800606772,\n",
              " 0.1276911414459893,\n",
              " 0.1289130752822111,\n",
              " 0.12979135388318339,\n",
              " 0.13280799484764327,\n",
              " 0.13360990076302662,\n",
              " 0.13273162216205434,\n",
              " 0.13181517906818815,\n",
              " 0.13005865099944436,\n",
              " 0.13051687254637745,\n",
              " 0.1333807827062599,\n",
              " 0.1328461884737379,\n",
              " 0.13341896176575416,\n",
              " 0.1329225611593268,\n",
              " 0.1355573532624425,\n",
              " 0.1332662309611767,\n",
              " 0.13246432504579336,\n",
              " 0.13315166464949316,\n",
              " 0.13586282943819777,\n",
              " 0.1350991317155094,\n",
              " 0.13269344310256007,\n",
              " 0.13330441002067098,\n",
              " 0.13223522155562697,\n",
              " 0.13101328771940518,\n",
              " 0.13330441002067098,\n",
              " 0.13322803733508207,\n",
              " 0.13173880638259927,\n",
              " 0.1275384106414119,\n",
              " 0.12669832566653424,\n",
              " 0.12841667467578374,\n",
              " 0.12822573567851128,\n",
              " 0.13082234872213272,\n",
              " 0.13185335812768248,\n",
              " 0.13154788195192718,\n",
              " 0.13086054234822733,\n",
              " 0.12925674508406104,\n",
              " 0.12952404220032201,\n",
              " 0.13028775448961075,\n",
              " 0.1307459906031442,\n",
              " 0.13082234872213272,\n",
              " 0.13215884887003804,\n",
              " 0.13593920212378668,\n",
              " 0.13586282943819777,\n",
              " 0.1377721028781194,\n",
              " 0.1381539663060639,\n",
              " 0.13613014112105912,\n",
              " 0.13498456540382586,\n",
              " 0.11955763979657534,\n",
              " 0.12188694844063556,\n",
              " 0.1211614297774415,\n",
              " 0.1216960240099635,\n",
              " 0.1195194534537809,\n",
              " 0.12039772477145295,\n",
              " 0.12009224131239751,\n",
              " 0.12127598880582487,\n",
              " 0.12123780246303041,\n",
              " 0.12058864920212505,\n",
              " 0.12142872689370252,\n",
              " 0.1207032082305084,\n",
              " 0.12024497940027513,\n",
              " 0.12207788743790803,\n",
              " 0.12524727377354575,\n",
              " 0.12452175511035161,\n",
              " 0.12517090108795684,\n",
              " 0.1227270334155132,\n",
              " 0.12318525496244627,\n",
              " 0.12104687803235831,\n",
              " 0.1210850570918526,\n",
              " 0.1195194534537809,\n",
              " 0.12039772477145295,\n",
              " 0.12035953842865849,\n",
              " 0.12333800033362415,\n",
              " 0.13234977330071016,\n",
              " 0.13005865099944436,\n",
              " 0.12666013204043958,\n",
              " 0.12574368894657342,\n",
              " 0.12776751413157825,\n",
              " 0.12719474083956195,\n",
              " 0.12139054055090805,\n",
              " 0.11879393479058678,\n",
              " 0.11890848653566999,\n",
              " 0.11860300307661453,\n",
              " 0.1205504628593306,\n",
              " 0.12333800033362415,\n",
              " 0.12467450048152946,\n",
              " 0.12448356148425702,\n",
              " 0.12578186800606772,\n",
              " 0.12490360397169585,\n",
              " 0.1254000191447235,\n",
              " 0.12688925009720634,\n",
              " 0.12811118393342816,\n",
              " 0.12486542491220155,\n",
              " 0.12467450048152946,\n",
              " 0.1235671183903908,\n",
              " 0.12379622188055718,\n",
              " 0.12478905222661264,\n",
              " 0.12669832566653424,\n",
              " 0.12673650472602851,\n",
              " 0.12788208044326177,\n",
              " 0.1291803723984721,\n",
              " 0.12895126890830572,\n",
              " 0.12902764159389465,\n",
              " 0.12681287741161745,\n",
              " 0.12570549532047878,\n",
              " 0.1259346133772455,\n",
              " 0.1285694054803612,\n",
              " 0.12998227831385548,\n",
              " 0.13120421215007724,\n",
              " 0.13135695752125512,\n",
              " 0.1319297308132714,\n",
              " 0.13299891927831534,\n",
              " 0.13315166464949316,\n",
              " 0.1332662309611767,\n",
              " 0.131700627323105,\n",
              " 0.1285694054803612,\n",
              " 0.12841667467578374,\n",
              " 0.13609194749496448,\n",
              " 0.1354809805768536,\n",
              " 0.1352900561461815,\n",
              " 0.13536642883177039,\n",
              " 0.13487001365874268,\n",
              " 0.13532823520567577,\n",
              " 0.13689383884374748,\n",
              " 0.1395668245729578,\n",
              " 0.14544739026390047,\n",
              " 0.14285077722027903,\n",
              " 0.14391996568532306,\n",
              " 0.14319444702212894,\n",
              " 0.14231618298775706,\n",
              " 0.14537101757831156,\n",
              " 0.14483642334578956,\n",
              " 0.14414908374208976,\n",
              " 0.14170521606964614,\n",
              " 0.13994868800090235,\n",
              " 0.14124699452271305,\n",
              " 0.14246892835893485,\n",
              " 0.14311807433654003,\n",
              " 0.14338537145280103,\n",
              " 0.14227798936166242,\n",
              " 0.14323262608162324,\n",
              " 0.14525646583322835,\n",
              " 0.14647839966945017,\n",
              " 0.14594380543692817,\n",
              " 0.14834947948327715,\n",
              " 0.14476005066020065,\n",
              " 0.14613472986760026,\n",
              " 0.14747121544890526,\n",
              " 0.14518009314763947,\n",
              " 0.14327081970771785,\n",
              " 0.14178158875523508,\n",
              " 0.1397577490036299,\n",
              " 0.14052146129291862,\n",
              " 0.1391086030260247,\n",
              " 0.13933772108279144,\n",
              " 0.138077593620475,\n",
              " 0.1401777914910687,\n",
              " 0.13949045188736894,\n",
              " 0.14124699452271305,\n",
              " 0.1426216591635123,\n",
              " 0.14204888587149606,\n",
              " 0.14204888587149606,\n",
              " 0.14250710741842915,\n",
              " 0.14155247069846832,\n",
              " 0.14059783397850753,\n",
              " 0.13761937207354188,\n",
              " 0.13868856053858591,\n",
              " 0.13620649924004768,\n",
              " 0.13532823520567577,\n",
              " 0.137275702271692,\n",
              " 0.13322803733508207,\n",
              " 0.1362828719256366,\n",
              " 0.1400250461198909,\n",
              " 0.14052146129291862,\n",
              " 0.1385740087935027,\n",
              " 0.1377721028781194,\n",
              " 0.1368556597842532,\n",
              " 0.1373520749572809,\n",
              " 0.14021598511716335,\n",
              " 0.13723750864559742,\n",
              " 0.1381539663060639,\n",
              " 0.1396431972585467,\n",
              " 0.14040690954783544,\n",
              " 0.14414908374208976,\n",
              " 0.13895585765484691,\n",
              " 0.13845944248181918,\n",
              " 0.1364356172968144,\n",
              " 0.137810296504214,\n",
              " 0.13926134839720253,\n",
              " 0.1401777914910687,\n",
              " 0.14159064975796262,\n",
              " 0.14273622547519588,\n",
              " 0.14327081970771785,\n",
              " 0.14330899876721215,\n",
              " 0.14254528647792342,\n",
              " 0.14288895627977333,\n",
              " 0.14380541394023985,\n",
              " 0.14468367797461174,\n",
              " 0.1435762958834731,\n",
              " 0.14300352259145685,\n",
              " 0.14273622547519588,\n",
              " 0.14422545642767864,\n",
              " 0.14594380543692817,\n",
              " 0.14391996568532306,\n",
              " 0.14632565429827235,\n",
              " 0.14518009314763947,\n",
              " 0.1453328385188173,\n",
              " 0.14437820179885646,\n",
              " 0.14407271105650085,\n",
              " 0.14483642334578956,\n",
              " 0.14579106006575038,\n",
              " 0.14434000817276185,\n",
              " 0.14361448950956776,\n",
              " 0.14495097509087274,\n",
              " 0.15067879541063758,\n",
              " 0.14960960694559358,\n",
              " 0.15365727188220354,\n",
              " 0.15300811133799802,\n",
              " 0.15430641785980873,\n",
              " 0.15369545094169781,\n",
              " 0.1515952530711041,\n",
              " 0.1499532767474435,\n",
              " 0.15354270557052,\n",
              " 0.15617751224023604,\n",
              " 0.15781947399729632,\n",
              " 0.15755217688103532,\n",
              " 0.1562538703592246,\n",
              " 0.1519007292468594,\n",
              " 0.1516334321305984,\n",
              " 0.1517098048161873,\n",
              " 0.15419186611472555,\n",
              " 0.1499532767474435,\n",
              " 0.14938048888882688,\n",
              " 0.1492659371437437,\n",
              " 0.1514425076999263,\n",
              " 0.15392456899846454,\n",
              " 0.15243532347938138,\n",
              " 0.15216802636312035,\n",
              " 0.1523589653603928,\n",
              " 0.15121338964315956,\n",
              " 0.1518625501873651,\n",
              " 0.1520534746180372,\n",
              " 0.15571927612670264,\n",
              " 0.154344596919303,\n",
              " 0.15392456899846454,\n",
              " 0.1523971444198871,\n",
              " 0.15121338964315956,\n",
              " 0.1502205738637045,\n",
              " 0.1488077155968106,\n",
              " 0.15018238023760988,\n",
              " ...]"
            ]
          },
          "execution_count": 36,
          "metadata": {},
          "output_type": "execute_result"
        }
      ],
      "source": [
        "temp_input"
      ]
    },
    {
      "cell_type": "code",
      "execution_count": 37,
      "metadata": {
        "id": "kBnIQBu2xnXz"
      },
      "outputs": [],
      "source": [
        "day_new=np.arange(1,101)\n",
        "day_pred=np.arange(101,131)"
      ]
    },
    {
      "cell_type": "code",
      "execution_count": 38,
      "metadata": {
        "colab": {
          "base_uri": "https://localhost:8080/"
        },
        "id": "letcfYyeybu3",
        "outputId": "53535b93-5036-4fce-cddc-e6111f108a6d"
      },
      "outputs": [
        {
          "data": {
            "text/plain": [
              "8857"
            ]
          },
          "execution_count": 38,
          "metadata": {},
          "output_type": "execute_result"
        }
      ],
      "source": [
        "len(df1)"
      ]
    },
    {
      "cell_type": "code",
      "execution_count": 39,
      "metadata": {
        "colab": {
          "base_uri": "https://localhost:8080/"
        },
        "id": "v0Wxe7I1zBnS",
        "outputId": "0c9eb72e-7d6b-45bb-997c-f004eedfd691"
      },
      "outputs": [
        {
          "name": "stdout",
          "output_type": "stream",
          "text": [
            "0 day input [0.10749103 0.10317608 0.10214507 ... 0.96387652 0.96261639 0.96139449]\n",
            "WARNING:tensorflow:Model was constructed with shape (None, 100, 1) for input KerasTensor(type_spec=TensorSpec(shape=(None, 100, 1), dtype=tf.float32, name='lstm_input'), name='lstm_input', description=\"created by layer 'lstm_input'\"), but it was called on an input with incompatible shape (None, 2758, 1).\n",
            "0 day output [[0.8925683]]\n",
            "1 day input [0.10317608 0.10214507 0.0999685  ... 0.96261639 0.96139449 0.89256829]\n",
            "1 day output [[0.81425536]]\n",
            "2 day input [0.10214507 0.0999685  0.09920479 ... 0.96139449 0.89256829 0.81425536]\n",
            "2 day output [[0.74618614]]\n",
            "3 day input [0.0999685  0.09920479 0.09515713 ... 0.89256829 0.81425536 0.74618614]\n",
            "3 day output [[0.6921802]]\n",
            "4 day input [0.09920479 0.09515713 0.09893749 ... 0.81425536 0.74618614 0.69218022]\n",
            "4 day output [[0.64994645]]\n",
            "5 day input [0.09515713 0.09893749 0.09817378 ... 0.74618614 0.69218022 0.64994645]\n",
            "5 day output [[0.61517185]]\n",
            "6 day input [0.09893749 0.09817378 0.09851745 ... 0.69218022 0.64994645 0.61517185]\n",
            "6 day output [[0.58440495]]\n",
            "7 day input [0.09817378 0.09851745 0.10069402 ... 0.64994645 0.61517185 0.58440495]\n",
            "7 day output [[0.55576646]]\n",
            "8 day input [0.09851745 0.10069402 0.10222144 ... 0.61517185 0.58440495 0.55576646]\n",
            "8 day output [[0.52860856]]\n",
            "9 day input [0.10069402 0.10222144 0.0981356  ... 0.58440495 0.55576646 0.52860856]\n",
            "9 day output [[0.50293505]]\n",
            "10 day input [0.10222144 0.0981356  0.09622632 ... 0.55576646 0.52860856 0.50293505]\n",
            "10 day output [[0.47895962]]\n",
            "11 day input [0.0981356  0.09622632 0.09553898 ... 0.52860856 0.50293505 0.47895962]\n",
            "11 day output [[0.45687276]]\n",
            "12 day input [0.09622632 0.09553898 0.09431705 ... 0.50293505 0.47895962 0.45687276]\n",
            "12 day output [[0.43676627]]\n",
            "13 day input [0.09553898 0.09431705 0.09511894 ... 0.47895962 0.45687276 0.43676627]\n",
            "13 day output [[0.41863954]]\n",
            "14 day input [0.09431705 0.09511894 0.09763918 ... 0.45687276 0.43676627 0.41863954]\n",
            "14 day output [[0.40243185]]\n",
            "15 day input [0.09511894 0.09763918 0.09702821 ... 0.43676627 0.41863954 0.40243185]\n",
            "15 day output [[0.38805217]]\n",
            "16 day input [0.09763918 0.09702821 0.10115225 ... 0.41863954 0.40243185 0.38805217]\n",
            "16 day output [[0.37539726]]\n",
            "17 day input [0.09702821 0.10115225 0.10015942 ... 0.40243185 0.38805217 0.37539726]\n",
            "17 day output [[0.36435932]]\n",
            "18 day input [0.10115225 0.10015942 0.10035035 ... 0.38805217 0.37539726 0.36435932]\n",
            "18 day output [[0.3548274]]\n",
            "19 day input [0.10015942 0.10035035 0.10061765 ... 0.37539726 0.36435932 0.3548274 ]\n",
            "19 day output [[0.3466875]]\n",
            "20 day input [0.10035035 0.10061765 0.09874656 ... 0.36435932 0.3548274  0.3466875 ]\n",
            "20 day output [[0.33982152]]\n",
            "21 day input [0.10061765 0.09874656 0.09805922 ... 0.3548274  0.3466875  0.33982152]\n",
            "21 day output [[0.33410817]]\n",
            "22 day input [0.09874656 0.09805922 0.09630269 ... 0.3466875  0.33982152 0.33410817]\n",
            "22 day output [[0.32942432]]\n",
            "23 day input [0.09805922 0.09630269 0.09511894 ... 0.33982152 0.33410817 0.32942432]\n",
            "23 day output [[0.32564586]]\n",
            "24 day input [0.09630269 0.09511894 0.09332423 ... 0.33410817 0.32942432 0.32564586]\n",
            "24 day output [[0.32265037]]\n",
            "25 day input [0.09511894 0.09332423 0.09248414 ... 0.32942432 0.32564586 0.32265037]\n",
            "25 day output [[0.32031798]]\n",
            "26 day input [0.09332423 0.09248414 0.08866559 ... 0.32564586 0.32265037 0.32031798]\n",
            "26 day output [[0.31853348]]\n",
            "27 day input [0.09248414 0.08866559 0.08752003 ... 0.32265037 0.32031798 0.31853348]\n",
            "27 day output [[0.3171879]]\n",
            "28 day input [0.08866559 0.08752003 0.08809281 ... 0.32031798 0.31853348 0.31718791]\n",
            "28 day output [[0.31617874]]\n",
            "29 day input [0.08752003 0.08809281 0.08851286 ... 0.31853348 0.31718791 0.31617874]\n",
            "29 day output [[0.3154117]]\n",
            "[[0.8925682902336121], [0.8142553567886353], [0.7461861371994019], [0.6921802163124084], [0.6499464511871338], [0.6151718497276306], [0.5844049453735352], [0.5557664632797241], [0.5286085605621338], [0.5029350519180298], [0.4789596199989319], [0.45687276124954224], [0.43676626682281494], [0.41863954067230225], [0.402431845664978], [0.38805216550827026], [0.375397264957428], [0.3643593192100525], [0.3548274040222168], [0.3466874957084656], [0.3398215174674988], [0.3341081738471985], [0.32942432165145874], [0.3256458640098572], [0.32265037298202515], [0.32031798362731934], [0.3185334801673889], [0.3171879053115845], [0.31617873907089233], [0.31541168689727783]]\n"
          ]
        }
      ],
      "source": [
        "# demonstrate prediction for next 10 days\n",
        "from numpy import array\n",
        "\n",
        "lst_output=[]\n",
        "n_steps=2758\n",
        "i=0\n",
        "while(i<30):\n",
        "    \n",
        "    if(len(temp_input)>100):\n",
        "        #print(temp_input)\n",
        "        x_input=np.array(temp_input[1:])\n",
        "        print(\"{} day input {}\".format(i,x_input))\n",
        "        x_input=x_input.reshape(1,-1)\n",
        "        x_input = x_input.reshape((1, n_steps, 1))\n",
        "        #print(x_input)\n",
        "        yhat = model.predict(x_input, verbose=0)\n",
        "        print(\"{} day output {}\".format(i,yhat))\n",
        "        temp_input.extend(yhat[0].tolist())\n",
        "        temp_input=temp_input[1:]\n",
        "        #print(temp_input)\n",
        "        lst_output.extend(yhat.tolist())\n",
        "        i=i+1\n",
        "    else:\n",
        "        x_input = x_input.reshape((1, n_steps,1))\n",
        "        yhat = model.predict(x_input, verbose=0)\n",
        "        print(yhat[0])\n",
        "        temp_input.extend(yhat[0].tolist())\n",
        "        print(len(temp_input))\n",
        "        lst_output.extend(yhat.tolist())\n",
        "        i=i+1\n",
        "    \n",
        "\n",
        "print(lst_output)"
      ]
    },
    {
      "cell_type": "code",
      "execution_count": 47,
      "metadata": {
        "colab": {
          "base_uri": "https://localhost:8080/",
          "height": 282
        },
        "id": "WCZAaWOzyeau",
        "outputId": "62cc9d84-5a13-45b5-d313-c09c91f329d9"
      },
      "outputs": [
        {
          "data": {
            "text/plain": [
              "[<matplotlib.lines.Line2D at 0x7f786b0cb190>]"
            ]
          },
          "execution_count": 47,
          "metadata": {},
          "output_type": "execute_result"
        },
        {
          "data": {
            "image/png": "[encoded data removed]",
            "text/plain": [
              "<Figure size 432x288 with 1 Axes>"
            ]
          },
          "metadata": {
            "needs_background": "light"
          },
          "output_type": "display_data"
        }
      ],
      "source": [
        "plt.plot(day_new,scaler.inverse_transform(df1[8757:]))\n",
        "plt.plot(day_pred,scaler.inverse_transform(lst_output))"
      ]
    },
    {
      "cell_type": "code",
      "execution_count": 48,
      "metadata": {
        "colab": {
          "base_uri": "https://localhost:8080/",
          "height": 282
        },
        "id": "pYfpecAoyhod",
        "outputId": "465dee48-03d9-4330-c137-97379656a33a"
      },
      "outputs": [
        {
          "data": {
            "text/plain": [
              "[<matplotlib.lines.Line2D at 0x7f786af47fd0>]"
            ]
          },
          "execution_count": 48,
          "metadata": {},
          "output_type": "execute_result"
        },
        {
          "data": {
            "image/png": "[encoded data removed]",
            "text/plain": [
              "<Figure size 432x288 with 1 Axes>"
            ]
          },
          "metadata": {
            "needs_background": "light"
          },
          "output_type": "display_data"
        }
      ],
      "source": [
        "df3=df1.tolist()\n",
        "df3.extend(lst_output)\n",
        "plt.plot(df3[1200:])"
      ]
    },
    {
      "cell_type": "code",
      "execution_count": 49,
      "metadata": {
        "id": "CMvB4l-5ynEB"
      },
      "outputs": [],
      "source": [
        "df3=scaler.inverse_transform(df3).tolist()"
      ]
    },
    {
      "cell_type": "code",
      "execution_count": 50,
      "metadata": {
        "colab": {
          "base_uri": "https://localhost:8080/",
          "height": 282
        },
        "id": "mdGWZ5yPyqOP",
        "outputId": "65fcf1d4-cec2-4f65-f85d-9c792f8596ac"
      },
      "outputs": [
        {
          "data": {
            "text/plain": [
              "[<matplotlib.lines.Line2D at 0x7f786adb4ed0>]"
            ]
          },
          "execution_count": 50,
          "metadata": {},
          "output_type": "execute_result"
        },
        {
          "data": {
            "image/png": "[encoded data removed]",
            "text/plain": [
              "<Figure size 432x288 with 1 Axes>"
            ]
          },
          "metadata": {
            "needs_background": "light"
          },
          "output_type": "display_data"
        }
      ],
      "source": [
        "plt.plot(df3)"
      ]
    },
    {
      "cell_type": "code",
      "execution_count": null,
      "metadata": {
        "id": "GkwAbV0Fyshu"
      },
      "outputs": [],
      "source": [
        "test_predict1=model.predict(X_test)\n",
        "from sklearn.metrics import r2_score\n",
        "print(\"R2 score : %.2f\" % r2_score(ytest,test_predict1))"
      ]
    }
  ],
  "metadata": {
    "colab": {
      "name": "stock.ipynb",
      "provenance": []
    },
    "kernelspec": {
      "display_name": "Python 3",
      "name": "python3"
    },
    "language_info": {
      "name": "python"
    }
  },
  "nbformat": 4,
  "nbformat_minor": 0
}
